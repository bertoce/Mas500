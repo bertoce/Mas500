{
 "cells": [
  {
   "cell_type": "code",
   "execution_count": 2,
   "metadata": {},
   "outputs": [
    {
     "name": "stdout",
     "output_type": "stream",
     "text": [
      "Trump:  197782\n",
      "Clinton:  133192\n"
     ]
    }
   ],
   "source": [
    "## Initialize\n",
    "import mediacloud, json, datetime\n",
    "from config import MY_API_KEY\n",
    "\n",
    "mc = mediacloud.api.MediaCloud(MY_API_KEY)\n",
    "\n",
    "\n",
    "## Research Question\n",
    "## \"Did US Mainstream Media sources talk about Trump or Clinton more in September 2016?\"\n",
    "\n",
    "## Trump\n",
    "res = mc.sentenceCount('trump', solr_filter=[mc.publish_date_query( datetime.date( 2016, 9, 1), datetime.date( 2016, 9, 30) ), 'tags_id_media:1' ])\n",
    "print (\"Trump: \", res['count']) # prints the number of sentences found\n",
    "\n",
    "\n",
    "## Clinton\n",
    "res = mc.sentenceCount('clinton', solr_filter=[mc.publish_date_query( datetime.date( 2016, 9, 1), datetime.date( 2016, 9, 30) ), 'tags_id_media:1' ])\n",
    "print (\"Clinton: \", res['count']) # prints the number of sentences found "
   ]
  }
 ],
 "metadata": {
  "kernelspec": {
   "display_name": "Python 3",
   "language": "python",
   "name": "python3"
  },
  "language_info": {
   "codemirror_mode": {
    "name": "ipython",
    "version": 3
   },
   "file_extension": ".py",
   "mimetype": "text/x-python",
   "name": "python",
   "nbconvert_exporter": "python",
   "pygments_lexer": "ipython3",
   "version": "3.6.3"
  }
 },
 "nbformat": 4,
 "nbformat_minor": 2
}
