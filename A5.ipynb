{
 "cells": [
  {
   "cell_type": "code",
   "execution_count": 15,
   "metadata": {},
   "outputs": [],
   "source": [
    "#Initialize sqlalchemy\n",
    "\n",
    "from sqlalchemy import *\n",
    "import datetime"
   ]
  },
  {
   "cell_type": "code",
   "execution_count": 16,
   "metadata": {
    "scrolled": true
   },
   "outputs": [
    {
     "name": "stdout",
     "output_type": "stream",
     "text": [
      "{'keyword': 'trump', 'count': 197784}\n",
      "{'keyword': 'clinton', 'count': 133193}\n"
     ]
    }
   ],
   "source": [
    "#Calls from mediacloud\n",
    "\n",
    "## Initialize mediacloud\n",
    "import mediacloud, json, datetime\n",
    "from config import MY_API_KEY\n",
    "\n",
    "mc = mediacloud.api.MediaCloud(MY_API_KEY)\n",
    "\n",
    "## Research Question\n",
    "## \"Did US Mainstream Media sources talk about Trump or Clinton more in September 2016?\"\n",
    "\n",
    "## Searches for Trump\n",
    "res = mc.sentenceCount('trump', solr_filter=[mc.publish_date_query( datetime.date( 2016, 9, 1), datetime.date( 2016, 9, 30) ), 'tags_id_media:1' ])\n",
    "trump_count = res['count']\n",
    "trump_row = {'keyword': 'trump', 'count': trump_count}\n",
    "print(trump_row)\n",
    "\n",
    "## Searches for Clinton\n",
    "res = mc.sentenceCount('clinton', solr_filter=[mc.publish_date_query( datetime.date( 2016, 9, 1), datetime.date( 2016, 9, 30) ), 'tags_id_media:1' ])\n",
    "clinton_count = res['count']\n",
    "clinton_row = {'keyword': 'clinton', 'count': clinton_count}\n",
    "print(clinton_row)\n"
   ]
  },
  {
   "cell_type": "code",
   "execution_count": 17,
   "metadata": {},
   "outputs": [
    {
     "name": "stdout",
     "output_type": "stream",
     "text": [
      "2017-12-13 17:37:09,433 INFO sqlalchemy.engine.base.Engine SELECT CAST('test plain returns' AS VARCHAR(60)) AS anon_1\n",
      "2017-12-13 17:37:09,435 INFO sqlalchemy.engine.base.Engine ()\n",
      "2017-12-13 17:37:09,437 INFO sqlalchemy.engine.base.Engine SELECT CAST('test unicode returns' AS VARCHAR(60)) AS anon_1\n",
      "2017-12-13 17:37:09,439 INFO sqlalchemy.engine.base.Engine ()\n",
      "2017-12-13 17:37:09,441 INFO sqlalchemy.engine.base.Engine PRAGMA table_info(\"queries\")\n",
      "2017-12-13 17:37:09,443 INFO sqlalchemy.engine.base.Engine ()\n",
      "2017-12-13 17:37:09,447 INFO sqlalchemy.engine.base.Engine \n",
      "CREATE TABLE queries (\n",
      "\tid INTEGER NOT NULL, \n",
      "\tkeyword VARCHAR(400) NOT NULL, \n",
      "\tcount INTEGER NOT NULL, \n",
      "\ttimestamp DATETIME, \n",
      "\tPRIMARY KEY (id)\n",
      ")\n",
      "\n",
      "\n",
      "2017-12-13 17:37:09,448 INFO sqlalchemy.engine.base.Engine ()\n",
      "2017-12-13 17:37:09,450 INFO sqlalchemy.engine.base.Engine COMMIT\n"
     ]
    }
   ],
   "source": [
    "\n",
    "#Create a table \n",
    "\n",
    "# add `echo=True` to see log statements of all the SQL that is generated\n",
    "engine = create_engine('sqlite:///:memory:',echo=True) # just save the db in memory for now (ie. not on disk)\n",
    "metadata = MetaData()\n",
    "# define a table to use\n",
    "keywords_table = Table('queries', metadata,\n",
    "    Column('id', Integer, primary_key=True),\n",
    "    Column('keyword', String(400), nullable=False),\n",
    "    Column('count', Integer, nullable=False),\n",
    "    Column('timestamp', DateTime, default=datetime.datetime.now),\n",
    ")\n",
    "metadata.create_all(engine) # and create the tables in the databa\n"
   ]
  },
  {
   "cell_type": "code",
   "execution_count": 18,
   "metadata": {},
   "outputs": [
    {
     "name": "stdout",
     "output_type": "stream",
     "text": [
      "2017-12-13 17:38:02,536 INFO sqlalchemy.engine.base.Engine INSERT INTO queries (keyword, count, timestamp) VALUES (?, ?, ?), (?, ?, ?)\n",
      "2017-12-13 17:38:02,538 INFO sqlalchemy.engine.base.Engine ('clinton', 133193, '2017-12-13 17:38:02.536502', 'trump', 197784, '2017-12-13 17:38:02.536512')\n",
      "2017-12-13 17:38:02,577 INFO sqlalchemy.engine.base.Engine COMMIT\n"
     ]
    }
   ],
   "source": [
    "# Insert count per keyword\n",
    "insert_stmt = keywords_table.insert().values([clinton_row, trump_row])\n",
    "result = db_conn.execute(insert_stmt)\n"
   ]
  },
  {
   "cell_type": "code",
   "execution_count": 31,
   "metadata": {},
   "outputs": [
    {
     "name": "stdout",
     "output_type": "stream",
     "text": [
      "2017-12-13 17:59:12,974 INFO sqlalchemy.engine.base.Engine SELECT queries.id, queries.keyword, queries.count, queries.timestamp \n",
      "FROM queries\n",
      "2017-12-13 17:59:12,976 INFO sqlalchemy.engine.base.Engine ()\n",
      "The count for clinton is 133193\n",
      "The count for trump is 197784\n",
      "Total count is 330977\n"
     ]
    }
   ],
   "source": [
    "# Select count per keyword\n",
    "# Show total\n",
    "\n",
    "from sqlalchemy.sql import select\n",
    "\n",
    "select_stmt = select([keywords_table])\n",
    "results = db_conn.execute(select_stmt)\n",
    "\n",
    "total_count = 0\n",
    "\n",
    "for row in results:\n",
    "    total_count += row.count\n",
    "    print('The count for {} is {}'.format(row.keyword, row.count))\n",
    "\n",
    "print('Total count is {}'.format(total_count))\n",
    "    "
   ]
  },
  {
   "cell_type": "code",
   "execution_count": null,
   "metadata": {},
   "outputs": [],
   "source": []
  }
 ],
 "metadata": {
  "kernelspec": {
   "display_name": "Python 3",
   "language": "python",
   "name": "python3"
  },
  "language_info": {
   "codemirror_mode": {
    "name": "ipython",
    "version": 3
   },
   "file_extension": ".py",
   "mimetype": "text/x-python",
   "name": "python",
   "nbconvert_exporter": "python",
   "pygments_lexer": "ipython3",
   "version": "3.6.3"
  }
 },
 "nbformat": 4,
 "nbformat_minor": 2
}
